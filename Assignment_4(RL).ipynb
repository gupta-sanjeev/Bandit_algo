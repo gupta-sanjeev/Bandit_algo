{
 "cells": [
  {
   "cell_type": "markdown",
   "id": "e71d94af",
   "metadata": {},
   "source": [
    "# Sanjeev Gupta \n",
    "22565025"
   ]
  },
  {
   "cell_type": "markdown",
   "id": "4ab2a0f7",
   "metadata": {},
   "source": [
    "Question - 1"
   ]
  },
  {
   "cell_type": "code",
   "execution_count": 114,
   "id": "9c7fbcae",
   "metadata": {},
   "outputs": [
    {
     "data": {
      "text/plain": [
       "array([[0.30793495, 0.51939148, 0.76829766, 0.78922074, 0.87056206,\n",
       "        0.18792139, 0.26950525, 0.49619214, 0.73912175, 0.19495199]])"
      ]
     },
     "execution_count": 114,
     "metadata": {},
     "output_type": "execute_result"
    }
   ],
   "source": [
    "np.random.seed(26)\n",
    "mean = np.random.rand(1,10)\n",
    "mean"
   ]
  },
  {
   "cell_type": "code",
   "execution_count": 82,
   "id": "1345a4b2",
   "metadata": {},
   "outputs": [
    {
     "data": {
      "text/plain": [
       "array([0.30793495, 0.51939148, 0.76829766, 0.78922074, 0.87056206,\n",
       "       0.18792139, 0.26950525, 0.49619214, 0.73912175, 0.19495199])"
      ]
     },
     "execution_count": 82,
     "metadata": {},
     "output_type": "execute_result"
    }
   ],
   "source": [
    "import numpy as np\n",
    "# roll number = 22565015\n",
    "np.random.seed(26)\n",
    "bandit_means= np.random.uniform(0,1,10)\n",
    "bandit_means"
   ]
  },
  {
   "cell_type": "code",
   "execution_count": 83,
   "id": "bb43ad59",
   "metadata": {},
   "outputs": [],
   "source": [
    "import random\n",
    "def draw(p):\n",
    "    if random.random() > p:\n",
    "        return 0\n",
    "    else:\n",
    "        return 1"
   ]
  },
  {
   "cell_type": "code",
   "execution_count": 84,
   "id": "fb948416",
   "metadata": {},
   "outputs": [],
   "source": [
    "import matplotlib.pyplot as plt\n",
    "import numpy as np\n",
    "import seaborn as sea\n",
    "\n",
    "NUM_TRIALS = 100000      "
   ]
  },
  {
   "cell_type": "code",
   "execution_count": 123,
   "id": "f035b3cd",
   "metadata": {},
   "outputs": [],
   "source": [
    "#ucb\n",
    "import math\n",
    "\n",
    "def ucb_algo(p, T):  \n",
    "    ucb = np.zeros(10)\n",
    "    time = np.zeros(10,dtype=int)\n",
    "    reward = np.zeros(10,dtype=int)\n",
    "    emp_r = np.zeros(10)\n",
    "    E_ucb = []\n",
    "    for i in range(0,T):\n",
    "        if max(ucb)==0:\n",
    "            j = random.choice(np.arange(10))\n",
    "        else:\n",
    "            j = ucb.argmax()\n",
    "        reward[j] += draw(p[j])\n",
    "        time[j] += 1\n",
    "        emp_r[j] = reward[j]/time[j]\n",
    "        y = sum(reward)/(i+1)\n",
    "        E_ucb.append(y)\n",
    "        for k in range (0,10):\n",
    "            ucb[k] = emp_r[k] + math.sqrt(2*np.log(i+1)/time[k])\n",
    "    return reward,emp_r,time,E_ucb"
   ]
  },
  {
   "cell_type": "code",
   "execution_count": 124,
   "id": "1570bec6",
   "metadata": {},
   "outputs": [
    {
     "name": "stderr",
     "output_type": "stream",
     "text": [
      "C:\\Users\\Sanjeev Gupta\\AppData\\Local\\Temp\\ipykernel_14048\\1789437851.py:21: RuntimeWarning: invalid value encountered in double_scalars\n",
      "  ucb[k] = emp_r[k] + math.sqrt(2*np.log(i+1)/time[k])\n",
      "C:\\Users\\Sanjeev Gupta\\AppData\\Local\\Temp\\ipykernel_14048\\1789437851.py:21: RuntimeWarning: divide by zero encountered in double_scalars\n",
      "  ucb[k] = emp_r[k] + math.sqrt(2*np.log(i+1)/time[k])\n"
     ]
    }
   ],
   "source": [
    "a,b,c,E_ucb = ucb_algo(bandit_means,NUM_TRIALS)"
   ]
  },
  {
   "cell_type": "code",
   "execution_count": 125,
   "id": "272b33a1",
   "metadata": {},
   "outputs": [
    {
     "name": "stdout",
     "output_type": "stream",
     "text": [
      "Total reward per arm: [   28    55  1010  1374 83346     8    11    65   537    13]\n",
      "Total Pulls of each arm: [   80   122  1337  1778 95639    46    52   137   754    55]\n",
      "Empirical reward of each arm: [0.35       0.45081967 0.75542259 0.7727784  0.87146457 0.17391304\n",
      " 0.21153846 0.47445255 0.71220159 0.23636364]\n"
     ]
    }
   ],
   "source": [
    "print(f\"Total reward per arm: {a}\\nTotal Pulls of each arm: {c}\\nEmpirical reward of each arm: {b}\")"
   ]
  },
  {
   "cell_type": "code",
   "execution_count": 127,
   "id": "0e2bdb08",
   "metadata": {},
   "outputs": [
    {
     "data": {
      "text/plain": [
       "Text(0, 0.5, 'E(r)')"
      ]
     },
     "execution_count": 127,
     "metadata": {},
     "output_type": "execute_result"
    },
    {
     "data": {
      "image/png": "[encoded data removed]",
      "text/plain": [
       "<Figure size 432x288 with 1 Axes>"
      ]
     },
     "metadata": {
      "needs_background": "light"
     },
     "output_type": "display_data"
    }
   ],
   "source": [
    "# Plotting expected rewards for ucb algo\n",
    "\n",
    "plt.plot(np.arange(1,100001),E_ucb)\n",
    "plt.axhline(y=max(bandit_means),c='r')\n",
    "plt.title(\"UCB Algorithm\")\n",
    "plt.xlabel(\"t\")\n",
    "plt.ylabel(\"E(r)\")"
   ]
  },
  {
   "cell_type": "markdown",
   "id": "a9eb99a3",
   "metadata": {},
   "source": [
    "Question - 2"
   ]
  },
  {
   "cell_type": "markdown",
   "id": "dfe458da",
   "metadata": {},
   "source": [
    "1) When epsilon = 1/(1+count)"
   ]
  },
  {
   "cell_type": "code",
   "execution_count": 85,
   "id": "7407e26b",
   "metadata": {},
   "outputs": [],
   "source": [
    "def eG3(T,p):\n",
    "    p_eG3 = np.zeros(10)\n",
    "    reward = np.zeros(10,dtype=int)\n",
    "    time = np.zeros(10,dtype=int)\n",
    "    E_eG3 = []\n",
    "    count =0\n",
    "#     ep = 1/(1+count)\n",
    "    \n",
    "    \n",
    "    for i in range(0,T):\n",
    "        if draw(1/(1+count)) == 1:\n",
    "            n = np.random.choice(np.arange(10))\n",
    "            reward[n] += draw(p[n])\n",
    "            time[n] += 1\n",
    "            p_eG3[n] = reward[n]/time[n]\n",
    "            y = sum(reward)/(i+1)\n",
    "            E_eG3.append(y)\n",
    "        else:\n",
    "            n = p_eG3.argmax()\n",
    "            reward[n] += draw(p[n])\n",
    "            time[n] += 1\n",
    "            p_eG3[n] = reward[n]/time[n]\n",
    "            y = sum(reward)/(i+1)\n",
    "            E_eG3.append(y)\n",
    "        count+=1\n",
    "    \n",
    "\n",
    "    \n",
    "    \n",
    "    print(f\"Reward: {reward} \\n Probability: {p_eG3} \\n Times of arms pull: {time} \")\n",
    "    \n",
    "    #Graph\n",
    "    plt.xlabel(\"Time\")\n",
    "    plt.ylabel(\"Expected Reward\")\n",
    "    plt.title('Reward vs Trail')\n",
    "    plt.axhline(y=max(p_eG3),c='r')\n",
    "    plt.plot(E_eG3)\n",
    "    plt.show()"
   ]
  },
  {
   "cell_type": "code",
   "execution_count": 86,
   "id": "e84c98c7",
   "metadata": {},
   "outputs": [
    {
     "name": "stdout",
     "output_type": "stream",
     "text": [
      "Reward: [    0     2   625 77438     0     0     0     0   558     0] \n",
      " Probability: [0.         0.5        0.74760766 0.78704353 0.         0.\n",
      " 0.         0.         0.73036649 0.        ] \n",
      " Times of arms pull: [    1     4   836 98391     0     2     1     1   764     0] \n"
     ]
    },
    {
     "data": {
      "image/png": "[encoded data removed]",
      "text/plain": [
       "<Figure size 432x288 with 1 Axes>"
      ]
     },
     "metadata": {
      "needs_background": "light"
     },
     "output_type": "display_data"
    }
   ],
   "source": [
    "eG3(NUM_TRIALS,bandit_means)"
   ]
  },
  {
   "cell_type": "markdown",
   "id": "b9725ca2",
   "metadata": {},
   "source": [
    "2) When epsilon = 1/(1+(count*count)"
   ]
  },
  {
   "cell_type": "code",
   "execution_count": 87,
   "id": "4b1d329f",
   "metadata": {},
   "outputs": [],
   "source": [
    "def eG3(T,p):\n",
    "    p_eG3 = np.zeros(10)\n",
    "    reward = np.zeros(10,dtype=int)\n",
    "    time = np.zeros(10,dtype=int)\n",
    "    E_eG3 = []\n",
    "    count =0\n",
    "#     ep = 1/(1+count*count)\n",
    "    \n",
    "    \n",
    "    for i in range(0,T):\n",
    "        if draw(1/(1+count)**2) == 1:\n",
    "            n = np.random.choice(np.arange(10))\n",
    "            reward[n] += draw(p[n])\n",
    "            time[n] += 1\n",
    "            p_eG3[n] = reward[n]/time[n]\n",
    "            y = sum(reward)/(i+1)\n",
    "            E_eG3.append(y)\n",
    "        else:\n",
    "            n = p_eG3.argmax()\n",
    "            reward[n] += draw(p[n])\n",
    "            time[n] += 1\n",
    "            p_eG3[n] = reward[n]/time[n]\n",
    "            y = sum(reward)/(i+1)\n",
    "            E_eG3.append(y)\n",
    "        count+=1\n",
    "    \n",
    "\n",
    "    \n",
    "    \n",
    "    print(f\"Reward: {reward} \\n Probability: {p_eG3} \\n Times of arms pull: {time} \")\n",
    "    \n",
    "    #Graph\n",
    "    plt.xlabel(\"Time\")\n",
    "    plt.ylabel(\"Expected Reward\")\n",
    "    plt.title('Reward vs Trail')\n",
    "    plt.axhline(y=max(p_eG3),c='r')\n",
    "    plt.plot(E_eG3)\n",
    "    plt.show()"
   ]
  },
  {
   "cell_type": "code",
   "execution_count": 88,
   "id": "84a04689",
   "metadata": {},
   "outputs": [
    {
     "name": "stdout",
     "output_type": "stream",
     "text": [
      "Reward: [    0     0     0     0 86929     0     0     0     0     0] \n",
      " Probability: [0.      0.      0.      0.      0.86929 0.      0.      0.      0.\n",
      " 0.     ] \n",
      " Times of arms pull: [     0      0      0      0 100000      0      0      0      0      0] \n"
     ]
    },
    {
     "data": {
      "image/png": "[encoded data removed]",
      "text/plain": [
       "<Figure size 432x288 with 1 Axes>"
      ]
     },
     "metadata": {
      "needs_background": "light"
     },
     "output_type": "display_data"
    }
   ],
   "source": [
    "eG3(NUM_TRIALS,bandit_means)"
   ]
  },
  {
   "cell_type": "code",
   "execution_count": null,
   "id": "a912b94b",
   "metadata": {},
   "outputs": [],
   "source": []
  }
 ],
 "metadata": {
  "kernelspec": {
   "display_name": "Python 3 (ipykernel)",
   "language": "python",
   "name": "python3"
  },
  "language_info": {
   "codemirror_mode": {
    "name": "ipython",
    "version": 3
   },
   "file_extension": ".py",
   "mimetype": "text/x-python",
   "name": "python",
   "nbconvert_exporter": "python",
   "pygments_lexer": "ipython3",
   "version": "3.9.12"
  }
 },
 "nbformat": 4,
 "nbformat_minor": 5
}
